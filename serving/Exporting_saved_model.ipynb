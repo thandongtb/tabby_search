{
 "cells": [
  {
   "cell_type": "code",
   "execution_count": 1,
   "metadata": {},
   "outputs": [
    {
     "name": "stderr",
     "output_type": "stream",
     "text": [
      "Using TensorFlow backend.\n"
     ]
    }
   ],
   "source": [
    "import tensorflow as tf\n",
    "from tensorflow_serving.apis import predict_pb2\n",
    "from tensorflow_serving.apis import prediction_service_pb2\n",
    "from keras.models import load_model\n",
    "from keras.models import model_from_json"
   ]
  },
  {
   "cell_type": "code",
   "execution_count": 2,
   "metadata": {},
   "outputs": [],
   "source": [
    "sess = tf.InteractiveSession()"
   ]
  },
  {
   "cell_type": "code",
   "execution_count": 3,
   "metadata": {},
   "outputs": [
    {
     "name": "stdout",
     "output_type": "stream",
     "text": [
      "Loaded model from disk\n"
     ]
    }
   ],
   "source": [
    "# model = load_model('hr_keras.h5')\n",
    "json_file = open('model_yolo.json', 'r')\n",
    "loaded_model_json = json_file.read()\n",
    "json_file.close()\n",
    "loaded_model = model_from_json(loaded_model_json)\n",
    "# load weights into new model\n",
    "loaded_model.load_weights(\"model_yolo.h5\")\n",
    "print(\"Loaded model from disk\")"
   ]
  },
  {
   "cell_type": "code",
   "execution_count": 5,
   "metadata": {},
   "outputs": [
    {
     "name": "stdout",
     "output_type": "stream",
     "text": [
      "Tensor(\"lambda_1/Identity:0\", shape=(?, 9, 9, 5, 8), dtype=float32)\n"
     ]
    }
   ],
   "source": [
    "print(loaded_model.output)"
   ]
  },
  {
   "cell_type": "code",
   "execution_count": 12,
   "metadata": {},
   "outputs": [],
   "source": [
    "# classification_signature = (\n",
    "#     tf.saved_model.signature_def_utils.build_signature_def(\n",
    "#         inputs={\n",
    "#             tf.saved_model.signature_constants.CLASSIFY_INPUTS:\n",
    "#               model.input\n",
    "#         },\n",
    "#         outputs={\n",
    "#             tf.saved_model.signature_constants.CLASSIFY_OUTPUT_CLASSES:\n",
    "#               classification_outputs_classes,\n",
    "#             tf.saved_model.signature_constants.CLASSIFY_OUTPUT_SCORES:\n",
    "#               classification_outputs_scores\n",
    "#         },\n",
    "#         method_name=tf.saved_model.signature_constants.CLASSIFY_METHOD_NAME))"
   ]
  },
  {
   "cell_type": "code",
   "execution_count": 6,
   "metadata": {},
   "outputs": [],
   "source": [
    "# model_input = tf.saved_model.utils.build_tensor_info(model.input)\n",
    "# model_output= tf.saved_model.utils.build_tensor_info(model.output)\n",
    "model_input = tf.saved_model.utils.build_tensor_info(loaded_model.input[0])\n",
    "model_output= tf.saved_model.utils.build_tensor_info(loaded_model.output)"
   ]
  },
  {
   "cell_type": "code",
   "execution_count": 7,
   "metadata": {},
   "outputs": [],
   "source": [
    "prediction_signature = (\n",
    "      tf.saved_model.signature_def_utils.build_signature_def(\n",
    "          inputs={'images': model_input},\n",
    "          outputs={'bounding_box': model_output},\n",
    "          method_name=tf.saved_model.signature_constants.PREDICT_METHOD_NAME))"
   ]
  },
  {
   "cell_type": "code",
   "execution_count": 8,
   "metadata": {},
   "outputs": [
    {
     "name": "stdout",
     "output_type": "stream",
     "text": [
      "INFO:tensorflow:No assets to save.\n",
      "INFO:tensorflow:No assets to write.\n",
      "INFO:tensorflow:SavedModel written to: ./models_yolo/yolo/1/saved_model.pb\n"
     ]
    },
    {
     "data": {
      "text/plain": [
       "b'./models_yolo/yolo/1/saved_model.pb'"
      ]
     },
     "execution_count": 8,
     "metadata": {},
     "output_type": "execute_result"
    }
   ],
   "source": [
    "builder = tf.saved_model.builder.SavedModelBuilder('./models_yolo/yolo/1')\n",
    "\n",
    "builder.add_meta_graph_and_variables(\n",
    "    sess, [tf.saved_model.tag_constants.SERVING],\n",
    "    signature_def_map={\n",
    "    tf.saved_model.signature_constants.DEFAULT_SERVING_SIGNATURE_DEF_KEY:\n",
    "        prediction_signature\n",
    "    })\n",
    "\n",
    "# Save the model so we can serve it with a model server :)\n",
    "builder.save()"
   ]
  },
  {
   "cell_type": "code",
   "execution_count": 9,
   "metadata": {},
   "outputs": [
    {
     "name": "stdout",
     "output_type": "stream",
     "text": [
      "[<tf.Tensor 'input_1:0' shape=(?, 300, 300, 3) dtype=float32>, <tf.Tensor 'input_2:0' shape=(?, 1, 1, 1, 2, 4) dtype=float32>]\n"
     ]
    }
   ],
   "source": [
    "print(loaded_model.input)"
   ]
  },
  {
   "cell_type": "code",
   "execution_count": 14,
   "metadata": {},
   "outputs": [
    {
     "name": "stdout",
     "output_type": "stream",
     "text": [
      "name: \"input_1:0\"\n",
      "dtype: DT_FLOAT\n",
      "tensor_shape {\n",
      "  dim {\n",
      "    size: -1\n",
      "  }\n",
      "  dim {\n",
      "    size: -1\n",
      "  }\n",
      "  dim {\n",
      "    size: -1\n",
      "  }\n",
      "  dim {\n",
      "    size: 3\n",
      "  }\n",
      "}\n",
      "\n"
     ]
    }
   ],
   "source": [
    "print(model_input)"
   ]
  },
  {
   "cell_type": "code",
   "execution_count": null,
   "metadata": {},
   "outputs": [],
   "source": []
  }
 ],
 "metadata": {
  "kernelspec": {
   "display_name": "deep-fashion",
   "language": "python",
   "name": "deep-fashion"
  },
  "language_info": {
   "codemirror_mode": {
    "name": "ipython",
    "version": 3
   },
   "file_extension": ".py",
   "mimetype": "text/x-python",
   "name": "python",
   "nbconvert_exporter": "python",
   "pygments_lexer": "ipython3",
   "version": "3.5.2"
  }
 },
 "nbformat": 4,
 "nbformat_minor": 2
}
